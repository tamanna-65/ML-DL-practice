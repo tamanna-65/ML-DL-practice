{
  "nbformat": 4,
  "nbformat_minor": 0,
  "metadata": {
    "colab": {
      "name": "vgg16.ipynb",
      "provenance": []
    },
    "kernelspec": {
      "display_name": "Python 3",
      "name": "python3"
    },
    "language_info": {
      "name": "python"
    }
  },
  "cells": [
    {
      "cell_type": "code",
      "metadata": {
        "colab": {
          "base_uri": "https://localhost:8080/"
        },
        "id": "zYPZTCGLw8DT",
        "outputId": "83d85e04-2efd-4e54-b784-92bd22fe43e1"
      },
      "source": [
        "from google.colab import drive\n",
        "\n",
        "drive.mount('/content/gdrive')"
      ],
      "execution_count": null,
      "outputs": [
        {
          "output_type": "stream",
          "text": [
            "Mounted at /content/gdrive\n"
          ],
          "name": "stdout"
        }
      ]
    },
    {
      "cell_type": "code",
      "metadata": {
        "id": "qE5bOMzmxitG"
      },
      "source": [
        "\n",
        "import numpy as np\n",
        "from tqdm import tqdm\n",
        "import math\n",
        "import os\n",
        "\n",
        "import tensorflow as tf\n",
        "\n",
        "import tensorflow.keras\n",
        "from tensorflow.keras.models import *\n",
        "from tensorflow.keras.layers import *\n",
        "from tensorflow.keras.layers import Dense, Flatten\n",
        "from tensorflow.keras.optimizers import Adam\n",
        "from tensorflow.keras.metrics import categorical_crossentropy\n",
        "from tensorflow.keras.preprocessing.image import ImageDataGenerator\n",
        "from tensorflow.keras.layers import BatchNormalization\n",
        "from tensorflow.keras.layers import Conv2D\n",
        "from sklearn.metrics import confusion_matrix\n",
        "from tensorflow.keras.applications.densenet import DenseNet121\n",
        "from tensorflow.keras.callbacks import *\n",
        "from tensorflow.keras import backend as K\n",
        "K.clear_session()\n",
        "import itertools\n",
        "import matplotlib.pyplot as plt\n",
        "import cv2\n",
        "import matplotlib.cm as cm\n",
        "\n",
        "from tensorflow.keras.utils import to_categorical\n",
        "from sklearn.preprocessing import LabelBinarizer,LabelEncoder\n",
        "from sklearn.model_selection import train_test_split\n",
        "from sklearn.metrics import classification_report\n",
        "from sklearn.metrics import confusion_matrix\n",
        "\n",
        "from keras.layers import Input, Lambda\n",
        "from keras.models import Model\n",
        "from keras.applications.densenet import preprocess_input\n",
        "from keras.preprocessing import image\n",
        "from keras.preprocessing.image import ImageDataGenerator\n",
        "from keras.models import Sequential\n",
        "import numpy as np\n",
        "from glob import glob\n",
        "\n",
        "\n",
        "from keras.preprocessing.image import ImageDataGenerator\n",
        "from keras.models import Sequential\n",
        "from keras.layers import Conv2D, MaxPooling2D, BatchNormalization\n",
        "from keras.layers import Activation, Dropout, Flatten, Dense\n",
        "#from keras import backend as K\n",
        "from PIL import Image\n",
        "import numpy as np\n",
        "\n",
        "from tensorflow.keras import layers, Model\n",
        "\n",
        "from keras.applications.vgg16 import VGG16\n",
        "from keras.applications.vgg16 import preprocess_input  "
      ],
      "execution_count": null,
      "outputs": []
    },
    {
      "cell_type": "code",
      "metadata": {
        "id": "cnsvYe5rYxlw"
      },
      "source": [
        "image_directory = '/content/gdrive/MyDrive/fn/'\n",
        "SIZE = 224\n",
        "dataset = []  #Many ways to handle data, you can use pandas. Here, we are using a list format.  \n",
        "label = []  #Place holders to define add labels. We will add 0 to all fire images and 1 to nonfire.\n",
        "\n",
        "fire_images = os.listdir(image_directory + 'fire/')\n",
        "for i, image_name in enumerate(fire_images):    #Remember enumerate method adds a counter and returns the enumerate object\n",
        "    \n",
        "    if (image_name.split('.')[1] == 'png'):\n",
        "        image = cv2.imread(image_directory + 'fire/' + image_name)\n",
        "        image = Image.fromarray(image, 'RGB')\n",
        "        image = image.resize((SIZE, SIZE))\n",
        "        dataset.append(np.array(image))\n",
        "        label.append(0)\n",
        "\n",
        "non_fire_images = os.listdir(image_directory + 'non_fire/')\n",
        "for i, image_name in enumerate(non_fire_images):\n",
        "    if (image_name.split('.')[1] == 'png'):\n",
        "        image = cv2.imread(image_directory + 'non_fire/' + image_name)\n",
        "        image = Image.fromarray(image, 'RGB')\n",
        "        image = image.resize((SIZE, SIZE))\n",
        "        dataset.append(np.array(image))\n",
        "        label.append(1)\n",
        "\n",
        "dataset = np.array(dataset)\n",
        "label = np.array(label)\n",
        "\n",
        "\n",
        "from sklearn.model_selection import train_test_split\n",
        "#from keras.utils import to_categorical\n",
        "\n",
        "X_train, X_test, y_train, y_test = train_test_split(dataset, label, test_size = 0.20, random_state = 0)\n",
        "\n",
        "\n",
        "from tensorflow.keras.utils import normalize\n",
        "X_train = normalize(X_train, axis=1)\n",
        "X_test = normalize(X_test, axis=1)\n",
        "\n",
        "IMAGE_SIZE = [SIZE, SIZE]"
      ],
      "execution_count": null,
      "outputs": []
    },
    {
      "cell_type": "code",
      "metadata": {
        "colab": {
          "base_uri": "https://localhost:8080/"
        },
        "id": "CtTEU2gRbLBV",
        "outputId": "4ac86923-a3f7-456b-8ffa-b79be73f9331"
      },
      "source": [
        "vgg = VGG16(input_shape=IMAGE_SIZE + [3], weights='imagenet', include_top=False)\n",
        "\n",
        "for layer in vgg.layers:\n",
        "       layer.trainable = False\n",
        "\n",
        "folders = glob('/content/gdrive/MyDrive/fn/*')\n",
        "\n",
        "# our layers - you can add more if you want\n",
        "x = Flatten()(vgg.output)\n",
        "# x = Dense(1000, activation='relu')(x)\n",
        "prediction = Dense(len(folders), activation='sigmoid')(x) # softmax\n",
        "\n",
        "        # create a model object\n",
        "model_vgg = Model(inputs=vgg.input, outputs=prediction)\n",
        "\n",
        "#model_vgg.summary()\n",
        "\n",
        "model_vgg.compile(optimizer='adam',  # Good default optimizer to start with\n",
        "                    loss='sparse_categorical_crossentropy',  # how will we calculate our \"error.\" Neural network aims to minimize loss.\n",
        "                      metrics=['accuracy'])  # what to track\n",
        "\n",
        "history_vgg = model_vgg.fit(X_train, y_train, epochs=25, validation_data=(X_test,y_test))  # train the model\n",
        "\n",
        "val_loss, val_acc = model_vgg.evaluate(X_test, y_test)  # evaluate the out of sample data with model\n",
        "\n",
        "print(\"model loss is: \",val_loss)  # model's loss (error)\n",
        "\n",
        "print(\" Model accuracy is: \", val_acc)  # model's accuracy\n",
        "\n",
        "#37m"
      ],
      "execution_count": null,
      "outputs": [
        {
          "output_type": "stream",
          "text": [
            "Downloading data from https://storage.googleapis.com/tensorflow/keras-applications/vgg16/vgg16_weights_tf_dim_ordering_tf_kernels_notop.h5\n",
            "58892288/58889256 [==============================] - 1s 0us/step\n",
            "58900480/58889256 [==============================] - 1s 0us/step\n",
            "Epoch 1/25\n",
            "5/5 [==============================] - 90s 18s/step - loss: 1.2999 - accuracy: 0.4577 - val_loss: 1.3218 - val_accuracy: 0.4444\n",
            "Epoch 2/25\n",
            "5/5 [==============================] - 88s 18s/step - loss: 0.8251 - accuracy: 0.5211 - val_loss: 0.6844 - val_accuracy: 0.5556\n",
            "Epoch 3/25\n",
            "5/5 [==============================] - 88s 18s/step - loss: 0.6653 - accuracy: 0.5986 - val_loss: 0.6984 - val_accuracy: 0.5278\n",
            "Epoch 4/25\n",
            "5/5 [==============================] - 88s 18s/step - loss: 0.5572 - accuracy: 0.6831 - val_loss: 0.5401 - val_accuracy: 0.6944\n",
            "Epoch 5/25\n",
            "5/5 [==============================] - 88s 18s/step - loss: 0.4169 - accuracy: 0.8380 - val_loss: 0.6184 - val_accuracy: 0.6389\n",
            "Epoch 6/25\n",
            "5/5 [==============================] - 88s 18s/step - loss: 0.3746 - accuracy: 0.8521 - val_loss: 0.5160 - val_accuracy: 0.6944\n",
            "Epoch 7/25\n",
            "5/5 [==============================] - 88s 18s/step - loss: 0.3460 - accuracy: 0.8873 - val_loss: 0.6322 - val_accuracy: 0.6389\n",
            "Epoch 8/25\n",
            "5/5 [==============================] - 88s 18s/step - loss: 0.3322 - accuracy: 0.8944 - val_loss: 0.4975 - val_accuracy: 0.7500\n",
            "Epoch 9/25\n",
            "5/5 [==============================] - 89s 18s/step - loss: 0.3014 - accuracy: 0.9225 - val_loss: 0.5619 - val_accuracy: 0.7778\n",
            "Epoch 10/25\n",
            "5/5 [==============================] - 89s 18s/step - loss: 0.2827 - accuracy: 0.9014 - val_loss: 0.5016 - val_accuracy: 0.7222\n",
            "Epoch 11/25\n",
            "5/5 [==============================] - 88s 18s/step - loss: 0.2679 - accuracy: 0.9296 - val_loss: 0.4912 - val_accuracy: 0.7500\n",
            "Epoch 12/25\n",
            "5/5 [==============================] - 89s 18s/step - loss: 0.2688 - accuracy: 0.9225 - val_loss: 0.5346 - val_accuracy: 0.7500\n",
            "Epoch 13/25\n",
            "5/5 [==============================] - 90s 18s/step - loss: 0.2545 - accuracy: 0.9225 - val_loss: 0.4882 - val_accuracy: 0.7500\n",
            "Epoch 14/25\n",
            "5/5 [==============================] - 90s 18s/step - loss: 0.2491 - accuracy: 0.9366 - val_loss: 0.5006 - val_accuracy: 0.7500\n",
            "Epoch 15/25\n",
            "5/5 [==============================] - 88s 18s/step - loss: 0.2480 - accuracy: 0.9014 - val_loss: 0.4827 - val_accuracy: 0.7778\n",
            "Epoch 16/25\n",
            "5/5 [==============================] - 88s 18s/step - loss: 0.2188 - accuracy: 0.9507 - val_loss: 0.4701 - val_accuracy: 0.8056\n",
            "Epoch 17/25\n",
            "5/5 [==============================] - 88s 18s/step - loss: 0.1976 - accuracy: 0.9577 - val_loss: 0.5009 - val_accuracy: 0.7500\n",
            "Epoch 18/25\n",
            "5/5 [==============================] - 88s 18s/step - loss: 0.2003 - accuracy: 0.9437 - val_loss: 0.4664 - val_accuracy: 0.8056\n",
            "Epoch 19/25\n",
            "5/5 [==============================] - 88s 18s/step - loss: 0.1838 - accuracy: 0.9577 - val_loss: 0.4912 - val_accuracy: 0.7500\n",
            "Epoch 20/25\n",
            "5/5 [==============================] - 88s 18s/step - loss: 0.1711 - accuracy: 0.9718 - val_loss: 0.4442 - val_accuracy: 0.8056\n",
            "Epoch 21/25\n",
            "5/5 [==============================] - 88s 18s/step - loss: 0.1667 - accuracy: 0.9648 - val_loss: 0.4688 - val_accuracy: 0.7778\n",
            "Epoch 22/25\n",
            "5/5 [==============================] - 88s 18s/step - loss: 0.1554 - accuracy: 0.9648 - val_loss: 0.4512 - val_accuracy: 0.8333\n",
            "Epoch 23/25\n",
            "5/5 [==============================] - 88s 18s/step - loss: 0.1541 - accuracy: 0.9648 - val_loss: 0.4605 - val_accuracy: 0.8056\n",
            "Epoch 24/25\n",
            "5/5 [==============================] - 88s 18s/step - loss: 0.1442 - accuracy: 0.9648 - val_loss: 0.4549 - val_accuracy: 0.8056\n",
            "Epoch 25/25\n",
            "5/5 [==============================] - 88s 18s/step - loss: 0.1401 - accuracy: 0.9577 - val_loss: 0.4728 - val_accuracy: 0.7500\n",
            "2/2 [==============================] - 18s 2s/step - loss: 0.4728 - accuracy: 0.7500\n",
            "model loss is:  0.47279495000839233\n",
            " Model accuracy is:  0.75\n"
          ],
          "name": "stdout"
        }
      ]
    },
    {
      "cell_type": "code",
      "metadata": {
        "colab": {
          "base_uri": "https://localhost:8080/",
          "height": 530
        },
        "id": "Sp4tn7wZbbSF",
        "outputId": "a3a3c104-858b-46b6-d7b9-fc757f29f1e2"
      },
      "source": [
        "plt.plot(history_vgg.history['loss'], color='blue',label='train loss')\n",
        "plt.plot(history_vgg.history['val_loss'], color='red', label='val loss')\n",
        "plt.legend()\n",
        "plt.show()\n",
        "plt.savefig('LossVal_loss')\n",
        "\n",
        "# accuracies\n",
        "plt.plot(history_vgg.history['accuracy'],color='blue', label='train acc')\n",
        "plt.plot(history_vgg.history['val_accuracy'],color='red', label='val acc')\n",
        "plt.legend()\n",
        "plt.show()\n",
        "plt.savefig('AccVal_acc')"
      ],
      "execution_count": null,
      "outputs": [
        {
          "output_type": "display_data",
          "data": {
            "image/png": "[encoded data removed]",
            "text/plain": [
              "<Figure size 432x288 with 1 Axes>"
            ]
          },
          "metadata": {
            "tags": [],
            "needs_background": "light"
          }
        },
        {
          "output_type": "display_data",
          "data": {
            "image/png": "[encoded data removed]",
            "text/plain": [
              "<Figure size 432x288 with 1 Axes>"
            ]
          },
          "metadata": {
            "tags": [],
            "needs_background": "light"
          }
        },
        {
          "output_type": "display_data",
          "data": {
            "text/plain": [
              "<Figure size 432x288 with 0 Axes>"
            ]
          },
          "metadata": {
            "tags": []
          }
        }
      ]
    },
    {
      "cell_type": "code",
      "metadata": {
        "colab": {
          "base_uri": "https://localhost:8080/"
        },
        "id": "RuOdeg8RcMyQ",
        "outputId": "ee7c967a-0de8-4101-d3cf-08ce1a5b05cf"
      },
      "source": [
        "y_pred = model_vgg.predict(X_test)\n",
        "y_pred = np.argmax(y_pred, axis=-1)\n",
        "print(y_pred)\n",
        "print(y_test)"
      ],
      "execution_count": null,
      "outputs": [
        {
          "output_type": "stream",
          "text": [
            "[0 1 0 0 1 0 1 1 1 1 1 1 0 1 1 1 1 0 0 0 0 0 1 1 1 1 1 0 1 1 1 1 1 0 0 1]\n",
            "[0 1 0 0 1 1 0 1 1 1 1 1 0 1 1 0 0 0 0 0 0 0 0 1 0 1 1 0 1 1 0 0 1 0 0 0]\n"
          ],
          "name": "stdout"
        }
      ]
    },
    {
      "cell_type": "code",
      "metadata": {
        "colab": {
          "base_uri": "https://localhost:8080/"
        },
        "id": "L4BOY1-bcQ9d",
        "outputId": "7ca166c8-5158-432a-8513-02f18d59ed94"
      },
      "source": [
        "print(classification_report(y_test, y_pred))"
      ],
      "execution_count": null,
      "outputs": [
        {
          "output_type": "stream",
          "text": [
            "              precision    recall  f1-score   support\n",
            "\n",
            "           0       0.92      0.60      0.73        20\n",
            "           1       0.65      0.94      0.77        16\n",
            "\n",
            "    accuracy                           0.75        36\n",
            "   macro avg       0.79      0.77      0.75        36\n",
            "weighted avg       0.80      0.75      0.75        36\n",
            "\n"
          ],
          "name": "stdout"
        }
      ]
    },
    {
      "cell_type": "code",
      "metadata": {
        "colab": {
          "base_uri": "https://localhost:8080/"
        },
        "id": "H-IBgQmkcT3N",
        "outputId": "638d12d0-bf4c-42bb-98f2-7101c22e6c35"
      },
      "source": [
        "confusion_matrix(y_test, y_pred)"
      ],
      "execution_count": null,
      "outputs": [
        {
          "output_type": "execute_result",
          "data": {
            "text/plain": [
              "array([[12,  8],\n",
              "       [ 1, 15]])"
            ]
          },
          "metadata": {
            "tags": []
          },
          "execution_count": 9
        }
      ]
    },
    {
      "cell_type": "code",
      "metadata": {
        "colab": {
          "base_uri": "https://localhost:8080/"
        },
        "id": "9UQu1T3WcZJB",
        "outputId": "be5b56e0-a90a-4843-cda9-32bebebb3e0a"
      },
      "source": [
        "import warnings\n",
        "import pandas\n",
        "from sklearn import model_selection\n",
        "from sklearn.linear_model import LogisticRegression\n",
        "from sklearn.metrics import log_loss\n",
        "from sklearn.metrics import precision_recall_fscore_support as score, precision_score, recall_score, f1_score\n",
        "\n",
        "warnings.filterwarnings('ignore')\n",
        "\n",
        "\n",
        "precision = precision_score(y_test, y_pred)\n",
        "print('Precision: %f' % precision)\n",
        "# recall: tp / (tp + fn)\n",
        "recall = recall_score(y_test, y_pred)\n",
        "print('Recall: %f' % recall)\n",
        "# f1: tp / (tp + fp + fn)\n",
        "f1 = f1_score(y_test, y_pred)\n",
        "print('F1 score: %f' % f1)"
      ],
      "execution_count": null,
      "outputs": [
        {
          "output_type": "stream",
          "text": [
            "Precision: 0.652174\n",
            "Recall: 0.937500\n",
            "F1 score: 0.769231\n"
          ],
          "name": "stdout"
        }
      ]
    },
    {
      "cell_type": "code",
      "metadata": {
        "colab": {
          "base_uri": "https://localhost:8080/"
        },
        "id": "jhYrBE2FcaLs",
        "outputId": "67c2f51f-7d1b-45a3-ba67-93a58ba84233"
      },
      "source": [
        "accuracy = log_loss(y_test, y_pred)\n",
        "print(\"Logloss: %.2f\" % (accuracy))"
      ],
      "execution_count": null,
      "outputs": [
        {
          "output_type": "stream",
          "text": [
            "Logloss: 8.63\n"
          ],
          "name": "stdout"
        }
      ]
    },
    {
      "cell_type": "code",
      "metadata": {
        "colab": {
          "base_uri": "https://localhost:8080/",
          "height": 296
        },
        "id": "6qCpGckZcdBU",
        "outputId": "508b96cb-c385-4a76-a0a6-27de9f453cf1"
      },
      "source": [
        "from sklearn.metrics import roc_auc_score, roc_curve\n",
        "auc = roc_auc_score(y_test, y_pred)\n",
        "print('AUC - Test Set: %.2f%%' % (auc*100))\n",
        "\n",
        "# calculate roc curve\n",
        "fpr, tpr, thresholds = roc_curve(y_test,y_pred)\n",
        "# plot no skill\n",
        "plt.plot([0, 1], [0, 1], linestyle='--')\n",
        "# plot the roc curve for the model\n",
        "plt.plot(fpr, tpr, marker='.')\n",
        "plt.xlabel('False positive rate')\n",
        "plt.ylabel('Sensitivity/ Recall')\n",
        "# show the plot\n",
        "plt.show()"
      ],
      "execution_count": null,
      "outputs": [
        {
          "output_type": "stream",
          "text": [
            "AUC - Test Set: 76.88%\n"
          ],
          "name": "stdout"
        },
        {
          "output_type": "display_data",
          "data": {
            "image/png": "[encoded data removed]",
            "text/plain": [
              "<Figure size 432x288 with 1 Axes>"
            ]
          },
          "metadata": {
            "tags": [],
            "needs_background": "light"
          }
        }
      ]
    }
  ]
}